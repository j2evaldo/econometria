{
 "cells": [
  {
   "cell_type": "code",
   "execution_count": 21,
   "metadata": {},
   "outputs": [],
   "source": [
    "import pandas as pd \n",
    "import numpy.random as npr\n",
    "import statsmodels.formula.api as smf\n",
    "\n",
    "# Comparador entre as regressões\n",
    "import statsmodels.iolib.summary2 as smis"
   ]
  },
  {
   "cell_type": "markdown",
   "metadata": {},
   "source": [
    "## **IMPORTANDO DADOS POPULACIONAIS**"
   ]
  },
  {
   "cell_type": "code",
   "execution_count": 4,
   "metadata": {},
   "outputs": [
    {
     "data": {
      "text/html": [
       "<div>\n",
       "<style scoped>\n",
       "    .dataframe tbody tr th:only-of-type {\n",
       "        vertical-align: middle;\n",
       "    }\n",
       "\n",
       "    .dataframe tbody tr th {\n",
       "        vertical-align: top;\n",
       "    }\n",
       "\n",
       "    .dataframe thead th {\n",
       "        text-align: right;\n",
       "    }\n",
       "</style>\n",
       "<table border=\"1\" class=\"dataframe\">\n",
       "  <thead>\n",
       "    <tr style=\"text-align: right;\">\n",
       "      <th></th>\n",
       "      <th>y</th>\n",
       "      <th>x1</th>\n",
       "      <th>x2</th>\n",
       "      <th>x3</th>\n",
       "      <th>x4</th>\n",
       "      <th>x5</th>\n",
       "      <th>u</th>\n",
       "    </tr>\n",
       "  </thead>\n",
       "  <tbody>\n",
       "    <tr>\n",
       "      <th>0</th>\n",
       "      <td>22.27</td>\n",
       "      <td>0.50</td>\n",
       "      <td>-0.14</td>\n",
       "      <td>0.65</td>\n",
       "      <td>1.52</td>\n",
       "      <td>-0.23</td>\n",
       "      <td>22.27</td>\n",
       "    </tr>\n",
       "    <tr>\n",
       "      <th>1</th>\n",
       "      <td>11.79</td>\n",
       "      <td>-0.23</td>\n",
       "      <td>1.58</td>\n",
       "      <td>0.77</td>\n",
       "      <td>-0.47</td>\n",
       "      <td>0.54</td>\n",
       "      <td>11.79</td>\n",
       "    </tr>\n",
       "    <tr>\n",
       "      <th>2</th>\n",
       "      <td>-9.09</td>\n",
       "      <td>-0.46</td>\n",
       "      <td>-0.47</td>\n",
       "      <td>0.24</td>\n",
       "      <td>-1.91</td>\n",
       "      <td>-1.72</td>\n",
       "      <td>-9.09</td>\n",
       "    </tr>\n",
       "    <tr>\n",
       "      <th>3</th>\n",
       "      <td>-7.68</td>\n",
       "      <td>-0.56</td>\n",
       "      <td>-1.01</td>\n",
       "      <td>0.31</td>\n",
       "      <td>-0.91</td>\n",
       "      <td>-1.41</td>\n",
       "      <td>-7.68</td>\n",
       "    </tr>\n",
       "    <tr>\n",
       "      <th>4</th>\n",
       "      <td>0.52</td>\n",
       "      <td>1.47</td>\n",
       "      <td>-0.23</td>\n",
       "      <td>0.07</td>\n",
       "      <td>-1.42</td>\n",
       "      <td>-0.54</td>\n",
       "      <td>0.52</td>\n",
       "    </tr>\n",
       "  </tbody>\n",
       "</table>\n",
       "</div>"
      ],
      "text/plain": [
       "       y    x1    x2    x3    x4    x5      u\n",
       "0  22.27  0.50 -0.14  0.65  1.52 -0.23  22.27\n",
       "1  11.79 -0.23  1.58  0.77 -0.47  0.54  11.79\n",
       "2  -9.09 -0.46 -0.47  0.24 -1.91 -1.72  -9.09\n",
       "3  -7.68 -0.56 -1.01  0.31 -0.91 -1.41  -7.68\n",
       "4   0.52  1.47 -0.23  0.07 -1.42 -0.54   0.52"
      ]
     },
     "execution_count": 4,
     "metadata": {},
     "output_type": "execute_result"
    }
   ],
   "source": [
    "dados_populacao = pd.read_csv('Dados_Estudo.csv')\n",
    "dados_populacao.head()"
   ]
  },
  {
   "cell_type": "code",
   "execution_count": 18,
   "metadata": {},
   "outputs": [],
   "source": [
    "npr.seed(42)\n",
    "n=20\n",
    "indices = npr.choice(dados_populacao.index, size = n, replace = False)\n",
    "\n",
    "dados_amostra = dados_populacao.iloc[indices, : ]"
   ]
  },
  {
   "cell_type": "markdown",
   "metadata": {},
   "source": [
    "## **RODANDO REGRESSÃO COM DADOS AMOSTRAIS**"
   ]
  },
  {
   "cell_type": "code",
   "execution_count": 20,
   "metadata": {},
   "outputs": [
    {
     "name": "stdout",
     "output_type": "stream",
     "text": [
      "                            OLS Regression Results                            \n",
      "==============================================================================\n",
      "Dep. Variable:                      y   R-squared:                       0.996\n",
      "Model:                            OLS   Adj. R-squared:                  0.994\n",
      "Method:                 Least Squares   F-statistic:                     635.5\n",
      "Date:                Sun, 05 May 2024   Prob (F-statistic):           5.53e-16\n",
      "Time:                        14:54:13   Log-Likelihood:                -28.929\n",
      "No. Observations:                  20   AIC:                             69.86\n",
      "Df Residuals:                      14   BIC:                             75.83\n",
      "Df Model:                           5                                         \n",
      "Covariance Type:            nonrobust                                         \n",
      "==============================================================================\n",
      "                 coef    std err          t      P>|t|      [0.025      0.975]\n",
      "------------------------------------------------------------------------------\n",
      "Intercept      9.6342      0.304     31.699      0.000       8.982      10.286\n",
      "x1             2.9864      0.337      8.873      0.000       2.265       3.708\n",
      "x2             8.1676      0.315     25.894      0.000       7.491       8.844\n",
      "x3            -5.2065      0.255    -20.445      0.000      -5.753      -4.660\n",
      "x4             9.6536      0.367     26.302      0.000       8.866      10.441\n",
      "x5            -2.1862      0.406     -5.391      0.000      -3.056      -1.316\n",
      "==============================================================================\n",
      "Omnibus:                        0.046   Durbin-Watson:                   1.951\n",
      "Prob(Omnibus):                  0.977   Jarque-Bera (JB):                0.080\n",
      "Skew:                          -0.026   Prob(JB):                        0.961\n",
      "Kurtosis:                       2.695   Cond. No.                         2.45\n",
      "==============================================================================\n",
      "\n",
      "Notes:\n",
      "[1] Standard Errors assume that the covariance matrix of the errors is correctly specified.\n"
     ]
    }
   ],
   "source": [
    "modelo = smf.ols('y ~ x1 + x2 + x3 + x4 + x5', dados_amostra)\n",
    "reg_amostra = modelo.fit()\n",
    "print(reg_amostra.summary())"
   ]
  },
  {
   "cell_type": "markdown",
   "metadata": {},
   "source": [
    "### **COMPARANDO REGRESSÃO COM DADOS AMOSTRAIS E DADOS POPULACIONAIS**"
   ]
  },
  {
   "cell_type": "code",
   "execution_count": 25,
   "metadata": {},
   "outputs": [],
   "source": [
    "modelo_populacao = smf.ols('y ~ x1 + x2 + x3 + x4 + x5', dados_populacao)\n",
    "reg_populacao = modelo_populacao.fit()\n"
   ]
  },
  {
   "cell_type": "code",
   "execution_count": 26,
   "metadata": {},
   "outputs": [
    {
     "data": {
      "text/html": [
       "<table class=\"simpletable\">\n",
       "<tr>\n",
       "         <td></td>        <th>Amosta</th>  <th>Populacao</th>\n",
       "</tr>\n",
       "<tr>\n",
       "  <th>Intercept</th>      <td>9.6***</td>   <td>10.0***</td> \n",
       "</tr>\n",
       "<tr>\n",
       "  <th></th>                <td>(0.3)</td>    <td>(0.0)</td>  \n",
       "</tr>\n",
       "<tr>\n",
       "  <th>x1</th>             <td>3.0***</td>   <td>3.0***</td>  \n",
       "</tr>\n",
       "<tr>\n",
       "  <th></th>                <td>(0.3)</td>    <td>(0.0)</td>  \n",
       "</tr>\n",
       "<tr>\n",
       "  <th>x2</th>             <td>8.2***</td>   <td>8.0***</td>  \n",
       "</tr>\n",
       "<tr>\n",
       "  <th></th>                <td>(0.3)</td>    <td>(0.0)</td>  \n",
       "</tr>\n",
       "<tr>\n",
       "  <th>x3</th>             <td>-5.2***</td>  <td>-5.0***</td> \n",
       "</tr>\n",
       "<tr>\n",
       "  <th></th>                <td>(0.3)</td>    <td>(0.0)</td>  \n",
       "</tr>\n",
       "<tr>\n",
       "  <th>x4</th>             <td>9.7***</td>   <td>9.0***</td>  \n",
       "</tr>\n",
       "<tr>\n",
       "  <th></th>                <td>(0.4)</td>    <td>(0.0)</td>  \n",
       "</tr>\n",
       "<tr>\n",
       "  <th>x5</th>             <td>-2.2***</td>  <td>-2.0***</td> \n",
       "</tr>\n",
       "<tr>\n",
       "  <th></th>                <td>(0.4)</td>    <td>(0.0)</td>  \n",
       "</tr>\n",
       "<tr>\n",
       "  <th>R-squared</th>        <td>1.0</td>      <td>1.0</td>   \n",
       "</tr>\n",
       "<tr>\n",
       "  <th>R-squared Adj.</th>   <td>1.0</td>      <td>1.0</td>   \n",
       "</tr>\n",
       "</table><br/>\n",
       "Standard errors in parentheses.<br/>\n",
       "* p<.1, ** p<.05, ***p<.01"
      ],
      "text/latex": [
       "\\begin{table}\n",
       "\\caption{}\n",
       "\\label{}\n",
       "\\begin{center}\n",
       "\\begin{tabular}{lll}\n",
       "\\hline\n",
       "               & Amosta  & Populacao  \\\\\n",
       "\\hline\n",
       "Intercept      & 9.6***  & 10.0***    \\\\\n",
       "               & (0.3)   & (0.0)      \\\\\n",
       "x1             & 3.0***  & 3.0***     \\\\\n",
       "               & (0.3)   & (0.0)      \\\\\n",
       "x2             & 8.2***  & 8.0***     \\\\\n",
       "               & (0.3)   & (0.0)      \\\\\n",
       "x3             & -5.2*** & -5.0***    \\\\\n",
       "               & (0.3)   & (0.0)      \\\\\n",
       "x4             & 9.7***  & 9.0***     \\\\\n",
       "               & (0.4)   & (0.0)      \\\\\n",
       "x5             & -2.2*** & -2.0***    \\\\\n",
       "               & (0.4)   & (0.0)      \\\\\n",
       "R-squared      & 1.0     & 1.0        \\\\\n",
       "R-squared Adj. & 1.0     & 1.0        \\\\\n",
       "\\hline\n",
       "\\end{tabular}\n",
       "\\end{center}\n",
       "\\end{table}\n",
       "\\bigskip\n",
       "Standard errors in parentheses. \\newline \n",
       "* p<.1, ** p<.05, ***p<.01"
      ],
      "text/plain": [
       "<class 'statsmodels.iolib.summary2.Summary'>\n",
       "\"\"\"\n",
       "\n",
       "================================\n",
       "                Amosta Populacao\n",
       "--------------------------------\n",
       "Intercept      9.6***  10.0***  \n",
       "               (0.3)   (0.0)    \n",
       "x1             3.0***  3.0***   \n",
       "               (0.3)   (0.0)    \n",
       "x2             8.2***  8.0***   \n",
       "               (0.3)   (0.0)    \n",
       "x3             -5.2*** -5.0***  \n",
       "               (0.3)   (0.0)    \n",
       "x4             9.7***  9.0***   \n",
       "               (0.4)   (0.0)    \n",
       "x5             -2.2*** -2.0***  \n",
       "               (0.4)   (0.0)    \n",
       "R-squared      1.0     1.0      \n",
       "R-squared Adj. 1.0     1.0      \n",
       "================================\n",
       "Standard errors in parentheses.\n",
       "* p<.1, ** p<.05, ***p<.01\n",
       "\"\"\""
      ]
     },
     "execution_count": 26,
     "metadata": {},
     "output_type": "execute_result"
    }
   ],
   "source": [
    "# Criando a comparação\n",
    "smis.summary_col(results = [reg_amostra, reg_populacao],\n",
    "                 float_format = '%.1f',\n",
    "                 stars = True,\n",
    "                 model_names = ['Amosta', 'Populacao'])\n",
    "\n"
   ]
  },
  {
   "cell_type": "code",
   "execution_count": null,
   "metadata": {},
   "outputs": [],
   "source": []
  },
  {
   "cell_type": "code",
   "execution_count": null,
   "metadata": {},
   "outputs": [],
   "source": []
  }
 ],
 "metadata": {
  "kernelspec": {
   "display_name": "venv",
   "language": "python",
   "name": "python3"
  },
  "language_info": {
   "codemirror_mode": {
    "name": "ipython",
    "version": 3
   },
   "file_extension": ".py",
   "mimetype": "text/x-python",
   "name": "python",
   "nbconvert_exporter": "python",
   "pygments_lexer": "ipython3",
   "version": "3.10.13"
  }
 },
 "nbformat": 4,
 "nbformat_minor": 2
}
