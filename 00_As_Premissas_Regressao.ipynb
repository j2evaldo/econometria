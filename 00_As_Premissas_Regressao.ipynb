{
 "cells": [
  {
   "cell_type": "code",
   "execution_count": 2,
   "metadata": {},
   "outputs": [],
   "source": [
    "import pandas as pd"
   ]
  },
  {
   "cell_type": "code",
   "execution_count": 3,
   "metadata": {},
   "outputs": [
    {
     "data": {
      "image/png": "[encoded data removed]",
      "text/plain": [
       "<Figure size 640x480 with 1 Axes>"
      ]
     },
     "metadata": {},
     "output_type": "display_data"
    }
   ],
   "source": [
    "import statsmodels.api as sm\n",
    "import matplotlib.pyplot as plt\n",
    "\n",
    "# Dados de exemplo\n",
    "data = sm.datasets.get_rdataset(\"mtcars\").data\n",
    "X = data[\"hp\"]  # horsepower\n",
    "y = data[\"mpg\"]  # miles per gallon\n",
    "X = sm.add_constant(X)  # adicionar constante\n",
    "\n",
    "# Ajustando o modelo\n",
    "model = sm.OLS(y, X).fit()\n",
    "\n",
    "# Plotando\n",
    "fig, ax = plt.subplots()\n",
    "ax.scatter(X[\"hp\"], y, color='blue', label='Dados Observados')\n",
    "ax.plot(X[\"hp\"], model.fittedvalues, color='red', label='Linha de Regressão')\n",
    "ax.set_xlabel('Horsepower')\n",
    "ax.set_ylabel('Miles per Gallon')\n",
    "ax.legend()\n",
    "plt.show()\n"
   ]
  },
  {
   "cell_type": "code",
   "execution_count": 6,
   "metadata": {},
   "outputs": [
    {
     "data": {
      "text/plain": [
       "const    6.642736e-18\n",
       "hp       1.787835e-07\n",
       "dtype: float64"
      ]
     },
     "execution_count": 6,
     "metadata": {},
     "output_type": "execute_result"
    }
   ],
   "source": [
    "model.pvalues"
   ]
  },
  {
   "cell_type": "code",
   "execution_count": 7,
   "metadata": {},
   "outputs": [
    {
     "data": {
      "text/plain": [
       "const    30.098861\n",
       "hp       -0.068228\n",
       "dtype: float64"
      ]
     },
     "execution_count": 7,
     "metadata": {},
     "output_type": "execute_result"
    }
   ],
   "source": [
    "model.params"
   ]
  },
  {
   "cell_type": "code",
   "execution_count": 10,
   "metadata": {},
   "outputs": [
    {
     "name": "stdout",
     "output_type": "stream",
     "text": [
      "                            OLS Regression Results                            \n",
      "==============================================================================\n",
      "Dep. Variable:                    mpg   R-squared:                       0.602\n",
      "Model:                            OLS   Adj. R-squared:                  0.589\n",
      "Method:                 Least Squares   F-statistic:                     45.46\n",
      "Date:                Sun, 05 May 2024   Prob (F-statistic):           1.79e-07\n",
      "Time:                        18:20:48   Log-Likelihood:                -87.619\n",
      "No. Observations:                  32   AIC:                             179.2\n",
      "Df Residuals:                      30   BIC:                             182.2\n",
      "Df Model:                           1                                         \n",
      "Covariance Type:            nonrobust                                         \n",
      "==============================================================================\n",
      "                 coef    std err          t      P>|t|      [0.025      0.975]\n",
      "------------------------------------------------------------------------------\n",
      "const         30.0989      1.634     18.421      0.000      26.762      33.436\n",
      "hp            -0.0682      0.010     -6.742      0.000      -0.089      -0.048\n",
      "==============================================================================\n",
      "Omnibus:                        3.692   Durbin-Watson:                   1.134\n",
      "Prob(Omnibus):                  0.158   Jarque-Bera (JB):                2.984\n",
      "Skew:                           0.747   Prob(JB):                        0.225\n",
      "Kurtosis:                       2.935   Cond. No.                         386.\n",
      "==============================================================================\n",
      "\n",
      "Notes:\n",
      "[1] Standard Errors assume that the covariance matrix of the errors is correctly specified.\n"
     ]
    }
   ],
   "source": [
    "print(model.summary())"
   ]
  },
  {
   "cell_type": "markdown",
   "metadata": {},
   "source": [
    "---"
   ]
  },
  {
   "cell_type": "markdown",
   "metadata": {},
   "source": [
    "## **Teste de Homocedasticidade**"
   ]
  },
  {
   "cell_type": "markdown",
   "metadata": {},
   "source": [
    "\n",
    "**Funcionamento do Teste de Breusch-Pagan**\n",
    "\n",
    "- **Resíduos e Valores Previstos:** O código começa obtendo os resíduos (model.resid) e os valores previstos (model.fittedvalues) do modelo de regressão ajustado.\n",
    "\n",
    "- **Execução do Teste:** O teste de Breusch-Pagan é aplicado usando a função het_breuschpagan, que recebe como argumentos os resíduos e a matriz de variáveis independentes incluindo o intercepto (model.model.exog).\n",
    "\n",
    "- **Resultados do Teste:** A função het_breuschpagan retorna quatro valores:\n",
    "- **LM Statistic:** Uma estatística de teste de Lagrange Multiplier (LM) para heterocedasticidade.\n",
    "\n",
    "- **LM-Test p-value:** O p-valor associado à estatística LM, que testa a hipótese nula de que os erros têm variância constante (homocedasticidade).\n",
    "\n",
    "- **F-Statistic:**Uma estatística de teste F, que é uma alternativa à estatística LM.\n",
    "\n",
    "- **F-Test p-value:** O p-valor associado ao teste F.\n",
    "\n",
    "\n",
    "**Interpretação dos Resultados**</br>\n",
    "- **LM Statistic e LM-Test p-value:**</br>\n",
    "- A estatística LM mede a probabilidade de que as variâncias dos resíduos sejam diferentes ao longo das observações. Um valor alto indica maior evidência contra a homocedasticidade.</br>\n",
    "\n",
    "- **O p-valor** do teste LM ajuda a decidir se a heterocedasticidade é estatisticamente significativa. Se este p-valor for menor que um limiar (geralmente 0.05), então rejeita-se a hipótese nula de homocedasticidade, indicando a presença de heterocedasticidade.</br>\n",
    "\n",
    "- **F-Statistic e F-Test p-value:**</br>\n",
    "A estatística F também testa a heterocedasticidade e é derivada da mesma forma que a estatística LM, mas usando um modelo auxiliar de regressão. O teste F é frequentemente considerado mais robusto e confiável.</br>\n",
    "- **O p-valor** do teste F é interpretado da mesma forma que o p-valor do teste LM. Um p-valor abaixo de 0.05 indica que os resíduos não têm variância constante, sugerindo a rejeição da homocedasticidade.\n",
    "\n",
    "### **Conclusão**\n",
    "Se algum dos p-valores (LM ou F) for baixo (tipicamente <0.05), isso indica que há evidências significativas de heterocedasticidade. Neste caso, pode ser necessário ajustar o modelo ou usar métodos estatísticos que sejam robustos à heterocedasticidade, como o uso de erros padrão robustos ou a aplicação de técnicas de ponderação nas observações."
   ]
  },
  {
   "cell_type": "code",
   "execution_count": 11,
   "metadata": {},
   "outputs": [
    {
     "name": "stdout",
     "output_type": "stream",
     "text": [
      "{'LM Statistic': 0.04929759271601242, 'LM-Test p-value': 0.8242900530026718, 'F-Statistic': 0.04628780183384193, 'F-Test p-value': 0.8311094326059991}\n"
     ]
    }
   ],
   "source": [
    "from statsmodels.stats.diagnostic import het_breuschpagan\n",
    "\n",
    "# Resíduos e valores previstos\n",
    "residuals = model.resid\n",
    "predictions = model.fittedvalues\n",
    "\n",
    "# Teste de Breusch-Pagan\n",
    "test = het_breuschpagan(residuals, model.model.exog)\n",
    "labels = ['LM Statistic', 'LM-Test p-value', 'F-Statistic', 'F-Test p-value']\n",
    "print(dict(zip(labels, test)))"
   ]
  },
  {
   "cell_type": "markdown",
   "metadata": {},
   "source": [
    "---"
   ]
  },
  {
   "cell_type": "markdown",
   "metadata": {},
   "source": [
    "## **Teste de Autocorrelação**"
   ]
  },
  {
   "cell_type": "markdown",
   "metadata": {},
   "source": [
    " **Como Funciona o Teste de Durbin-Watson**\n",
    "O teste calcula uma estatística que varia de 0 a 4, onde:\n",
    "\n",
    "- Um valor de 2 indica nenhuma autocorrelação.\n",
    "- Valores menores que 2 sugerem autocorrelação positiva.\n",
    "- Valores maiores que 2 indicam autocorrelação negativa.\n",
    "\n",
    "**Interpretação da Saída do Código**\n",
    "O código que você forneceu realiza o teste de Durbin-Watson nos resíduos de um modelo de regressão, arredonda o resultado para duas casas decimais e imprime o valor. O resultado, neste caso, é a estatística de Durbin-Watson arredondada, representada pela variável dw.\n",
    "\n",
    "- **print(f'Durbin-Watson statistic: {dw}'):** Esta linha imprime a estatística de Durbin-Watson. Por exemplo, se dw for 1.50, o output seria \"Durbin-Watson statistic: 1.50\".\n",
    "\n",
    "**Como Avaliar o Resultado**\n",
    "- **Próximo a 2.00:** Indica que não há evidência de autocorrelação nos resíduos do modelo.\n",
    "- **Menor que 2.00:** Sugere a presença de autocorrelação positiva. Quanto mais próximo de 0, mais forte é a autocorrelação positiva. Isso pode ocorrer em dados onde os resíduos em um tempo t tendem a ser semelhantes ou iguais aos de t-1.\n",
    "- **Maior que 2.00:** Indica autocorrelação negativa. Quanto mais próximo de 4, mais forte é a autocorrelação negativa. Isso ocorre quando os resíduos em um tempo t são opostos aos de t-1.\n",
    "\n",
    "**Ação com Base no Resultado**\n",
    "- Se o valor estiver longe de 2 e especialmente se estiver próximo de 0 ou 4, você deve considerar métodos para ajustar o modelo para lidar com a autocorrelação. Isso pode incluir:\n",
    "\n",
    "- Revisar a especificação do modelo (adicionar lags das variáveis independentes, por exemplo).\n",
    "Usar técnicas de modelagem específicas para dados com autocorrelação, como modelos ARIMA em séries temporais.\n",
    "\n",
    "- Ajustar a análise para usar erros padrão robustos a autocorrelação (Newey-West, por exemplo)."
   ]
  },
  {
   "cell_type": "code",
   "execution_count": 19,
   "metadata": {},
   "outputs": [
    {
     "name": "stdout",
     "output_type": "stream",
     "text": [
      "Durbin-Watson statistic: 1.13\n"
     ]
    }
   ],
   "source": [
    "from statsmodels.stats.stattools import durbin_watson\n",
    "\n",
    "# Teste de Durbin-Watson\n",
    "dw = durbin_watson(residuals)\n",
    "dw = round(dw,2)\n",
    "print(f'Durbin-Watson statistic: {dw}')"
   ]
  },
  {
   "cell_type": "markdown",
   "metadata": {},
   "source": [
    "---"
   ]
  },
  {
   "cell_type": "markdown",
   "metadata": {},
   "source": [
    "## **Teste de Multicolinearidade**"
   ]
  },
  {
   "cell_type": "markdown",
   "metadata": {},
   "source": [
    "O VIF mede o quanto a variância de um coeficiente estimado é aumentada devido à multicolinearidade.\n",
    "\n",
    "- **VIF = 1:** Não há multicolinearidade entre a variável e as outras.\n",
    "- **1 < VIF < 5:** Multicolinearidade moderada, mas geralmente não é alarmante.\n",
    "- **VIF >= 5:** Multicolinearidade pode ser problemática. Valores de VIF de 5 ou mais indicam que a variável está altamente correlacionada com outras variáveis no modelo, e a precisão das estimativas dos coeficientes dessa variável pode ser afetada."
   ]
  },
  {
   "cell_type": "code",
   "execution_count": 14,
   "metadata": {},
   "outputs": [
    {
     "name": "stdout",
     "output_type": "stream",
     "text": [
      "   VIF Factor features\n",
      "0    5.724943    const\n",
      "1    1.000000       hp\n"
     ]
    }
   ],
   "source": [
    "from statsmodels.stats.outliers_influence import variance_inflation_factor\n",
    "\n",
    "# Calculando VIF para cada variável\n",
    "vif = pd.DataFrame()\n",
    "vif[\"VIF Factor\"] = [variance_inflation_factor(X.values, i) for i in range(X.shape[1])]\n",
    "vif[\"features\"] = X.columns\n",
    "print(vif)"
   ]
  },
  {
   "cell_type": "markdown",
   "metadata": {},
   "source": [
    "---"
   ]
  },
  {
   "cell_type": "markdown",
   "metadata": {},
   "source": [
    "## **Teste de Normalidade dos Resíduos**"
   ]
  },
  {
   "cell_type": "markdown",
   "metadata": {},
   "source": [
    " Shapiro-Wilk, que é usado para verificar a normalidade dos dados. No contexto de análise de regressão, é comum aplicar este teste aos resíduos do modelo para verificar se eles estão normalmente distribuídos. A normalidade dos resíduos é uma importante premissa em muitos modelos de regressão linear, pois afeta a validade dos testes estatísticos para os coeficientes da regressão.\n",
    "\n",
    "**O Teste de Shapiro-Wilk**\n",
    "**Objetivo:** Testar a hipótese nula de que uma amostra vem de uma distribuição normal.\n",
    "\n",
    "- **Estatística de Teste:** Uma estatística que mede o quanto a distribuição da amostra se desvia de uma distribuição normal. Valores mais próximos de 1 indicam que a amostra é mais provável de ser normal.\n",
    "\n",
    "-**p-Valor:** Usado para decidir se rejeita ou não a hipótese nula. Um p-valor baixo (geralmente menor que 0.05) indica que você tem evidência suficiente para rejeitar a hipótese nula de normalidade.\n",
    "Interpretação da Saída do Código\n",
    "\n",
    "--**Quando você executa o código, ele imprime dois valores:**\n",
    "Shapiro-Wilk Test Statistic: A estatística do teste, que quanto mais próxima de 1, mais normal é considerada a distribuição dos dados.\n",
    "p-Value: O p-valor associado ao teste."
   ]
  },
  {
   "cell_type": "code",
   "execution_count": 15,
   "metadata": {},
   "outputs": [
    {
     "name": "stdout",
     "output_type": "stream",
     "text": [
      "Shapiro-Wilk Test Statistic: 0.9233670440854259, p-Value: 0.025681691612774973\n"
     ]
    }
   ],
   "source": [
    "from scipy.stats import shapiro\n",
    "\n",
    "# Teste de Shapiro-Wilk\n",
    "stat, p_value = shapiro(residuals)\n",
    "print(f'Shapiro-Wilk Test Statistic: {stat}, p-Value: {p_value}')"
   ]
  },
  {
   "cell_type": "code",
   "execution_count": null,
   "metadata": {},
   "outputs": [],
   "source": []
  }
 ],
 "metadata": {
  "kernelspec": {
   "display_name": "venv",
   "language": "python",
   "name": "python3"
  },
  "language_info": {
   "codemirror_mode": {
    "name": "ipython",
    "version": 3
   },
   "file_extension": ".py",
   "mimetype": "text/x-python",
   "name": "python",
   "nbconvert_exporter": "python",
   "pygments_lexer": "ipython3",
   "version": "3.10.13"
  }
 },
 "nbformat": 4,
 "nbformat_minor": 2
}
