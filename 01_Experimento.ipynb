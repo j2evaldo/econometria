{
 "cells": [
  {
   "cell_type": "code",
   "execution_count": 1,
   "metadata": {},
   "outputs": [],
   "source": [
    "import pandas as pd \n",
    "import statsmodels.formula.api as smf"
   ]
  },
  {
   "cell_type": "code",
   "execution_count": 2,
   "metadata": {},
   "outputs": [
    {
     "data": {
      "text/html": [
       "<div>\n",
       "<style scoped>\n",
       "    .dataframe tbody tr th:only-of-type {\n",
       "        vertical-align: middle;\n",
       "    }\n",
       "\n",
       "    .dataframe tbody tr th {\n",
       "        vertical-align: top;\n",
       "    }\n",
       "\n",
       "    .dataframe thead th {\n",
       "        text-align: right;\n",
       "    }\n",
       "</style>\n",
       "<table border=\"1\" class=\"dataframe\">\n",
       "  <thead>\n",
       "    <tr style=\"text-align: right;\">\n",
       "      <th></th>\n",
       "      <th>y</th>\n",
       "      <th>x1</th>\n",
       "      <th>x2</th>\n",
       "      <th>x3</th>\n",
       "      <th>x4</th>\n",
       "      <th>x5</th>\n",
       "      <th>u</th>\n",
       "    </tr>\n",
       "  </thead>\n",
       "  <tbody>\n",
       "    <tr>\n",
       "      <th>0</th>\n",
       "      <td>22.27</td>\n",
       "      <td>0.50</td>\n",
       "      <td>-0.14</td>\n",
       "      <td>0.65</td>\n",
       "      <td>1.52</td>\n",
       "      <td>-0.23</td>\n",
       "      <td>22.27</td>\n",
       "    </tr>\n",
       "    <tr>\n",
       "      <th>1</th>\n",
       "      <td>11.79</td>\n",
       "      <td>-0.23</td>\n",
       "      <td>1.58</td>\n",
       "      <td>0.77</td>\n",
       "      <td>-0.47</td>\n",
       "      <td>0.54</td>\n",
       "      <td>11.79</td>\n",
       "    </tr>\n",
       "    <tr>\n",
       "      <th>2</th>\n",
       "      <td>-9.09</td>\n",
       "      <td>-0.46</td>\n",
       "      <td>-0.47</td>\n",
       "      <td>0.24</td>\n",
       "      <td>-1.91</td>\n",
       "      <td>-1.72</td>\n",
       "      <td>-9.09</td>\n",
       "    </tr>\n",
       "    <tr>\n",
       "      <th>3</th>\n",
       "      <td>-7.68</td>\n",
       "      <td>-0.56</td>\n",
       "      <td>-1.01</td>\n",
       "      <td>0.31</td>\n",
       "      <td>-0.91</td>\n",
       "      <td>-1.41</td>\n",
       "      <td>-7.68</td>\n",
       "    </tr>\n",
       "    <tr>\n",
       "      <th>4</th>\n",
       "      <td>0.52</td>\n",
       "      <td>1.47</td>\n",
       "      <td>-0.23</td>\n",
       "      <td>0.07</td>\n",
       "      <td>-1.42</td>\n",
       "      <td>-0.54</td>\n",
       "      <td>0.52</td>\n",
       "    </tr>\n",
       "  </tbody>\n",
       "</table>\n",
       "</div>"
      ],
      "text/plain": [
       "       y    x1    x2    x3    x4    x5      u\n",
       "0  22.27  0.50 -0.14  0.65  1.52 -0.23  22.27\n",
       "1  11.79 -0.23  1.58  0.77 -0.47  0.54  11.79\n",
       "2  -9.09 -0.46 -0.47  0.24 -1.91 -1.72  -9.09\n",
       "3  -7.68 -0.56 -1.01  0.31 -0.91 -1.41  -7.68\n",
       "4   0.52  1.47 -0.23  0.07 -1.42 -0.54   0.52"
      ]
     },
     "execution_count": 2,
     "metadata": {},
     "output_type": "execute_result"
    }
   ],
   "source": [
    "df = pd.read_csv('Dados_Estudo.csv')\n",
    "df.head()"
   ]
  },
  {
   "cell_type": "code",
   "execution_count": 8,
   "metadata": {},
   "outputs": [
    {
     "data": {
      "text/plain": [
       "Index(['x1', 'x2', 'x3', 'x4', 'x5'], dtype='object')"
      ]
     },
     "execution_count": 8,
     "metadata": {},
     "output_type": "execute_result"
    }
   ],
   "source": [
    "independent_vars = '+'.join(df.columns[1:-1])"
   ]
  },
  {
   "cell_type": "markdown",
   "metadata": {},
   "source": [
    "**CRIANDO A REGRESSÃO**"
   ]
  },
  {
   "cell_type": "code",
   "execution_count": 6,
   "metadata": {},
   "outputs": [
    {
     "name": "stdout",
     "output_type": "stream",
     "text": [
      "                            OLS Regression Results                            \n",
      "==============================================================================\n",
      "Dep. Variable:                      y   R-squared:                       0.994\n",
      "Model:                            OLS   Adj. R-squared:                  0.994\n",
      "Method:                 Least Squares   F-statistic:                 6.722e+05\n",
      "Date:                Sun, 05 May 2024   Prob (F-statistic):               0.00\n",
      "Time:                        14:27:33   Log-Likelihood:                -29202.\n",
      "No. Observations:               20000   AIC:                         5.842e+04\n",
      "Df Residuals:                   19994   BIC:                         5.846e+04\n",
      "Df Model:                           5                                         \n",
      "Covariance Type:            nonrobust                                         \n",
      "==============================================================================\n",
      "                 coef    std err          t      P>|t|      [0.025      0.975]\n",
      "------------------------------------------------------------------------------\n",
      "Intercept     10.0081      0.007   1358.011      0.000       9.994      10.023\n",
      "x1             3.0060      0.007    412.650      0.000       2.992       3.020\n",
      "x2             7.9999      0.007   1087.096      0.000       7.985       8.014\n",
      "x3            -4.9961      0.007   -679.379      0.000      -5.010      -4.982\n",
      "x4             9.0134      0.007   1215.862      0.000       8.999       9.028\n",
      "x5            -1.9922      0.007   -268.961      0.000      -2.007      -1.978\n",
      "==============================================================================\n",
      "Omnibus:                        0.341   Durbin-Watson:                   1.977\n",
      "Prob(Omnibus):                  0.843   Jarque-Bera (JB):                0.319\n",
      "Skew:                          -0.005   Prob(JB):                        0.852\n",
      "Kurtosis:                       3.016   Cond. No.                         1.02\n",
      "==============================================================================\n",
      "\n",
      "Notes:\n",
      "[1] Standard Errors assume that the covariance matrix of the errors is correctly specified.\n"
     ]
    }
   ],
   "source": [
    "modelo = smf.ols('y ~ x1 + x2 + x3 + x4 + x5', df)\n",
    "resultado = modelo.fit()\n",
    "print(resultado.summary())"
   ]
  },
  {
   "cell_type": "code",
   "execution_count": null,
   "metadata": {},
   "outputs": [],
   "source": []
  }
 ],
 "metadata": {
  "kernelspec": {
   "display_name": "Python 3 (ipykernel)",
   "language": "python",
   "name": "python3"
  },
  "language_info": {
   "codemirror_mode": {
    "name": "ipython",
    "version": 3
   },
   "file_extension": ".py",
   "mimetype": "text/x-python",
   "name": "python",
   "nbconvert_exporter": "python",
   "pygments_lexer": "ipython3",
   "version": "3.10.13"
  }
 },
 "nbformat": 4,
 "nbformat_minor": 2
}
