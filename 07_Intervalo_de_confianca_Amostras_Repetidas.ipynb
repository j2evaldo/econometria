{
 "cells": [
  {
   "cell_type": "markdown",
   "metadata": {},
   "source": [
    "# **INTERVALOS DE CONFIANCA: AMOSTRAS REPETIDAS**"
   ]
  },
  {
   "cell_type": "markdown",
   "metadata": {},
   "source": [
    "Neste estudo extraimores varias amostras e calcularemos os intervalos de confiança.\n",
    "\n",
    "A ideia é ver se os diferentes intervalos de confiança estarão dentro do intervalo calculado para a população"
   ]
  },
  {
   "cell_type": "code",
   "execution_count": 2,
   "metadata": {},
   "outputs": [],
   "source": [
    "import numpy as np\n",
    "import pandas as pd\n",
    "import statsmodels.formula.api as smf"
   ]
  },
  {
   "cell_type": "code",
   "execution_count": 7,
   "metadata": {},
   "outputs": [],
   "source": [
    "df = pd.read_excel('Arquivo 25.xlsx', skiprows=6)"
   ]
  },
  {
   "cell_type": "code",
   "execution_count": 8,
   "metadata": {},
   "outputs": [
    {
     "name": "stdout",
     "output_type": "stream",
     "text": [
      "<class 'pandas.core.frame.DataFrame'>\n",
      "RangeIndex: 30000 entries, 0 to 29999\n",
      "Data columns (total 5 columns):\n",
      " #   Column  Non-Null Count  Dtype  \n",
      "---  ------  --------------  -----  \n",
      " 0   y       30000 non-null  float64\n",
      " 1   x1      30000 non-null  float64\n",
      " 2   x2      30000 non-null  float64\n",
      " 3   x3      30000 non-null  float64\n",
      " 4   u       30000 non-null  float64\n",
      "dtypes: float64(5)\n",
      "memory usage: 1.1 MB\n"
     ]
    }
   ],
   "source": [
    "df.info()"
   ]
  },
  {
   "cell_type": "code",
   "execution_count": 10,
   "metadata": {},
   "outputs": [
    {
     "data": {
      "text/html": [
       "<div>\n",
       "<style scoped>\n",
       "    .dataframe tbody tr th:only-of-type {\n",
       "        vertical-align: middle;\n",
       "    }\n",
       "\n",
       "    .dataframe tbody tr th {\n",
       "        vertical-align: top;\n",
       "    }\n",
       "\n",
       "    .dataframe thead th {\n",
       "        text-align: right;\n",
       "    }\n",
       "</style>\n",
       "<table border=\"1\" class=\"dataframe\">\n",
       "  <thead>\n",
       "    <tr style=\"text-align: right;\">\n",
       "      <th></th>\n",
       "      <th>y</th>\n",
       "      <th>x1</th>\n",
       "      <th>x2</th>\n",
       "      <th>x3</th>\n",
       "      <th>u</th>\n",
       "    </tr>\n",
       "  </thead>\n",
       "  <tbody>\n",
       "    <tr>\n",
       "      <th>0</th>\n",
       "      <td>11.425882</td>\n",
       "      <td>-2.074123</td>\n",
       "      <td>2.290155</td>\n",
       "      <td>0.681252</td>\n",
       "      <td>0.234896</td>\n",
       "    </tr>\n",
       "    <tr>\n",
       "      <th>1</th>\n",
       "      <td>11.793475</td>\n",
       "      <td>-2.536419</td>\n",
       "      <td>2.676716</td>\n",
       "      <td>1.317109</td>\n",
       "      <td>0.501520</td>\n",
       "    </tr>\n",
       "    <tr>\n",
       "      <th>2</th>\n",
       "      <td>11.633772</td>\n",
       "      <td>-1.873122</td>\n",
       "      <td>2.441400</td>\n",
       "      <td>0.416821</td>\n",
       "      <td>-0.754489</td>\n",
       "    </tr>\n",
       "    <tr>\n",
       "      <th>3</th>\n",
       "      <td>22.149554</td>\n",
       "      <td>-2.458791</td>\n",
       "      <td>4.636264</td>\n",
       "      <td>0.326659</td>\n",
       "      <td>0.125685</td>\n",
       "    </tr>\n",
       "    <tr>\n",
       "      <th>4</th>\n",
       "      <td>3.798687</td>\n",
       "      <td>-2.333300</td>\n",
       "      <td>1.901632</td>\n",
       "      <td>2.370399</td>\n",
       "      <td>-1.029945</td>\n",
       "    </tr>\n",
       "  </tbody>\n",
       "</table>\n",
       "</div>"
      ],
      "text/plain": [
       "           y        x1        x2        x3         u\n",
       "0  11.425882 -2.074123  2.290155  0.681252  0.234896\n",
       "1  11.793475 -2.536419  2.676716  1.317109  0.501520\n",
       "2  11.633772 -1.873122  2.441400  0.416821 -0.754489\n",
       "3  22.149554 -2.458791  4.636264  0.326659  0.125685\n",
       "4   3.798687 -2.333300  1.901632  2.370399 -1.029945"
      ]
     },
     "metadata": {},
     "output_type": "display_data"
    },
    {
     "data": {
      "text/html": [
       "<div>\n",
       "<style scoped>\n",
       "    .dataframe tbody tr th:only-of-type {\n",
       "        vertical-align: middle;\n",
       "    }\n",
       "\n",
       "    .dataframe tbody tr th {\n",
       "        vertical-align: top;\n",
       "    }\n",
       "\n",
       "    .dataframe thead th {\n",
       "        text-align: right;\n",
       "    }\n",
       "</style>\n",
       "<table border=\"1\" class=\"dataframe\">\n",
       "  <thead>\n",
       "    <tr style=\"text-align: right;\">\n",
       "      <th></th>\n",
       "      <th>y</th>\n",
       "      <th>x1</th>\n",
       "      <th>x2</th>\n",
       "      <th>x3</th>\n",
       "      <th>u</th>\n",
       "    </tr>\n",
       "  </thead>\n",
       "  <tbody>\n",
       "    <tr>\n",
       "      <th>29995</th>\n",
       "      <td>10.935687</td>\n",
       "      <td>-2.722244</td>\n",
       "      <td>1.387940</td>\n",
       "      <td>0.125562</td>\n",
       "      <td>1.038369</td>\n",
       "    </tr>\n",
       "    <tr>\n",
       "      <th>29996</th>\n",
       "      <td>13.555354</td>\n",
       "      <td>-1.083487</td>\n",
       "      <td>3.142174</td>\n",
       "      <td>0.761365</td>\n",
       "      <td>0.187264</td>\n",
       "    </tr>\n",
       "    <tr>\n",
       "      <th>29997</th>\n",
       "      <td>18.841756</td>\n",
       "      <td>-1.007276</td>\n",
       "      <td>4.380711</td>\n",
       "      <td>0.645020</td>\n",
       "      <td>0.246694</td>\n",
       "    </tr>\n",
       "    <tr>\n",
       "      <th>29998</th>\n",
       "      <td>21.073693</td>\n",
       "      <td>-1.216041</td>\n",
       "      <td>5.391590</td>\n",
       "      <td>1.070254</td>\n",
       "      <td>-0.497944</td>\n",
       "    </tr>\n",
       "    <tr>\n",
       "      <th>29999</th>\n",
       "      <td>5.567085</td>\n",
       "      <td>-2.578567</td>\n",
       "      <td>2.029287</td>\n",
       "      <td>1.878491</td>\n",
       "      <td>-1.493158</td>\n",
       "    </tr>\n",
       "  </tbody>\n",
       "</table>\n",
       "</div>"
      ],
      "text/plain": [
       "               y        x1        x2        x3         u\n",
       "29995  10.935687 -2.722244  1.387940  0.125562  1.038369\n",
       "29996  13.555354 -1.083487  3.142174  0.761365  0.187264\n",
       "29997  18.841756 -1.007276  4.380711  0.645020  0.246694\n",
       "29998  21.073693 -1.216041  5.391590  1.070254 -0.497944\n",
       "29999   5.567085 -2.578567  2.029287  1.878491 -1.493158"
      ]
     },
     "metadata": {},
     "output_type": "display_data"
    }
   ],
   "source": [
    "display(df.head())\n",
    "display(df.tail())"
   ]
  },
  {
   "cell_type": "code",
   "execution_count": null,
   "metadata": {},
   "outputs": [],
   "source": []
  }
 ],
 "metadata": {
  "kernelspec": {
   "display_name": "venv",
   "language": "python",
   "name": "python3"
  },
  "language_info": {
   "codemirror_mode": {
    "name": "ipython",
    "version": 3
   },
   "file_extension": ".py",
   "mimetype": "text/x-python",
   "name": "python",
   "nbconvert_exporter": "python",
   "pygments_lexer": "ipython3",
   "version": "3.10.13"
  }
 },
 "nbformat": 4,
 "nbformat_minor": 2
}
