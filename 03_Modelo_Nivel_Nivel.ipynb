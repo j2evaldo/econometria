{
 "cells": [
  {
   "cell_type": "markdown",
   "metadata": {},
   "source": [
    "# **MODELO NIVEL NIVEL**"
   ]
  },
  {
   "cell_type": "code",
   "execution_count": 22,
   "metadata": {},
   "outputs": [],
   "source": [
    "import pandas as pd\n",
    "import statsmodels.formula.api as smf\n",
    "import seaborn as sns \n",
    "\n",
    "sns.set()\n"
   ]
  },
  {
   "cell_type": "code",
   "execution_count": 11,
   "metadata": {},
   "outputs": [],
   "source": [
    "df = pd.read_excel('Lanchonetes.xlsx', sheet_name='Dados', usecols = ['RT', 'Preco', 'Propaganda'])"
   ]
  },
  {
   "cell_type": "code",
   "execution_count": 19,
   "metadata": {},
   "outputs": [
    {
     "data": {
      "text/html": [
       "<div>\n",
       "<style scoped>\n",
       "    .dataframe tbody tr th:only-of-type {\n",
       "        vertical-align: middle;\n",
       "    }\n",
       "\n",
       "    .dataframe tbody tr th {\n",
       "        vertical-align: top;\n",
       "    }\n",
       "\n",
       "    .dataframe thead th {\n",
       "        text-align: right;\n",
       "    }\n",
       "</style>\n",
       "<table border=\"1\" class=\"dataframe\">\n",
       "  <thead>\n",
       "    <tr style=\"text-align: right;\">\n",
       "      <th></th>\n",
       "      <th>RT</th>\n",
       "      <th>Preco</th>\n",
       "      <th>Propaganda</th>\n",
       "    </tr>\n",
       "  </thead>\n",
       "  <tbody>\n",
       "    <tr>\n",
       "      <th>0</th>\n",
       "      <td>12129.131000</td>\n",
       "      <td>21.2</td>\n",
       "      <td>5108.1</td>\n",
       "    </tr>\n",
       "    <tr>\n",
       "      <th>1</th>\n",
       "      <td>19175.832845</td>\n",
       "      <td>20.4</td>\n",
       "      <td>8629.0</td>\n",
       "    </tr>\n",
       "    <tr>\n",
       "      <th>2</th>\n",
       "      <td>13001.348495</td>\n",
       "      <td>23.7</td>\n",
       "      <td>5548.4</td>\n",
       "    </tr>\n",
       "    <tr>\n",
       "      <th>3</th>\n",
       "      <td>30668.024388</td>\n",
       "      <td>22.4</td>\n",
       "      <td>14378.2</td>\n",
       "    </tr>\n",
       "    <tr>\n",
       "      <th>4</th>\n",
       "      <td>30581.377510</td>\n",
       "      <td>21.5</td>\n",
       "      <td>14333.8</td>\n",
       "    </tr>\n",
       "    <tr>\n",
       "      <th>5</th>\n",
       "      <td>15220.000000</td>\n",
       "      <td>29.4</td>\n",
       "      <td>8550.0</td>\n",
       "    </tr>\n",
       "    <tr>\n",
       "      <th>6</th>\n",
       "      <td>23670.900000</td>\n",
       "      <td>27.3</td>\n",
       "      <td>11950.7</td>\n",
       "    </tr>\n",
       "    <tr>\n",
       "      <th>7</th>\n",
       "      <td>20698.505418</td>\n",
       "      <td>22.2</td>\n",
       "      <td>9394.1</td>\n",
       "    </tr>\n",
       "    <tr>\n",
       "      <th>8</th>\n",
       "      <td>20883.787743</td>\n",
       "      <td>25.1</td>\n",
       "      <td>9491.8</td>\n",
       "    </tr>\n",
       "    <tr>\n",
       "      <th>9</th>\n",
       "      <td>15400.600000</td>\n",
       "      <td>29.5</td>\n",
       "      <td>7888.2</td>\n",
       "    </tr>\n",
       "    <tr>\n",
       "      <th>10</th>\n",
       "      <td>26985.419993</td>\n",
       "      <td>24.7</td>\n",
       "      <td>12542.4</td>\n",
       "    </tr>\n",
       "    <tr>\n",
       "      <th>11</th>\n",
       "      <td>14568.726345</td>\n",
       "      <td>28.9</td>\n",
       "      <td>6342.3</td>\n",
       "    </tr>\n",
       "    <tr>\n",
       "      <th>12</th>\n",
       "      <td>15537.561148</td>\n",
       "      <td>27.9</td>\n",
       "      <td>6824.4</td>\n",
       "    </tr>\n",
       "    <tr>\n",
       "      <th>13</th>\n",
       "      <td>13609.533218</td>\n",
       "      <td>23.9</td>\n",
       "      <td>5853.0</td>\n",
       "    </tr>\n",
       "    <tr>\n",
       "      <th>14</th>\n",
       "      <td>23141.740212</td>\n",
       "      <td>27.5</td>\n",
       "      <td>10625.1</td>\n",
       "    </tr>\n",
       "    <tr>\n",
       "      <th>15</th>\n",
       "      <td>15557.839361</td>\n",
       "      <td>23.4</td>\n",
       "      <td>6825.4</td>\n",
       "    </tr>\n",
       "    <tr>\n",
       "      <th>16</th>\n",
       "      <td>30105.546454</td>\n",
       "      <td>31.9</td>\n",
       "      <td>14117.0</td>\n",
       "    </tr>\n",
       "    <tr>\n",
       "      <th>17</th>\n",
       "      <td>15436.800000</td>\n",
       "      <td>16.5</td>\n",
       "      <td>6550.0</td>\n",
       "    </tr>\n",
       "    <tr>\n",
       "      <th>18</th>\n",
       "      <td>21128.911514</td>\n",
       "      <td>31.3</td>\n",
       "      <td>9626.7</td>\n",
       "    </tr>\n",
       "    <tr>\n",
       "      <th>19</th>\n",
       "      <td>16081.438816</td>\n",
       "      <td>30.2</td>\n",
       "      <td>7100.4</td>\n",
       "    </tr>\n",
       "    <tr>\n",
       "      <th>20</th>\n",
       "      <td>22100.000000</td>\n",
       "      <td>26.6</td>\n",
       "      <td>10752.8</td>\n",
       "    </tr>\n",
       "    <tr>\n",
       "      <th>21</th>\n",
       "      <td>15253.465584</td>\n",
       "      <td>22.4</td>\n",
       "      <td>6670.8</td>\n",
       "    </tr>\n",
       "    <tr>\n",
       "      <th>22</th>\n",
       "      <td>15300.480000</td>\n",
       "      <td>22.5</td>\n",
       "      <td>6800.0</td>\n",
       "    </tr>\n",
       "    <tr>\n",
       "      <th>23</th>\n",
       "      <td>20397.543097</td>\n",
       "      <td>21.1</td>\n",
       "      <td>9240.1</td>\n",
       "    </tr>\n",
       "    <tr>\n",
       "      <th>24</th>\n",
       "      <td>27597.100000</td>\n",
       "      <td>23.7</td>\n",
       "      <td>12468.1</td>\n",
       "    </tr>\n",
       "    <tr>\n",
       "      <th>25</th>\n",
       "      <td>27630.300000</td>\n",
       "      <td>27.3</td>\n",
       "      <td>12097.2</td>\n",
       "    </tr>\n",
       "    <tr>\n",
       "      <th>26</th>\n",
       "      <td>25630.000000</td>\n",
       "      <td>24.4</td>\n",
       "      <td>13511.8</td>\n",
       "    </tr>\n",
       "    <tr>\n",
       "      <th>27</th>\n",
       "      <td>14530.000000</td>\n",
       "      <td>24.6</td>\n",
       "      <td>7457.2</td>\n",
       "    </tr>\n",
       "    <tr>\n",
       "      <th>28</th>\n",
       "      <td>15486.360000</td>\n",
       "      <td>21.3</td>\n",
       "      <td>6450.0</td>\n",
       "    </tr>\n",
       "    <tr>\n",
       "      <th>29</th>\n",
       "      <td>27800.000000</td>\n",
       "      <td>20.3</td>\n",
       "      <td>13422.0</td>\n",
       "    </tr>\n",
       "    <tr>\n",
       "      <th>30</th>\n",
       "      <td>20695.938561</td>\n",
       "      <td>30.3</td>\n",
       "      <td>9408.3</td>\n",
       "    </tr>\n",
       "    <tr>\n",
       "      <th>31</th>\n",
       "      <td>31170.983653</td>\n",
       "      <td>24.4</td>\n",
       "      <td>14634.8</td>\n",
       "    </tr>\n",
       "    <tr>\n",
       "      <th>32</th>\n",
       "      <td>31164.550155</td>\n",
       "      <td>25.6</td>\n",
       "      <td>14634.4</td>\n",
       "    </tr>\n",
       "    <tr>\n",
       "      <th>33</th>\n",
       "      <td>16685.670256</td>\n",
       "      <td>27.6</td>\n",
       "      <td>7397.6</td>\n",
       "    </tr>\n",
       "    <tr>\n",
       "      <th>34</th>\n",
       "      <td>15113.989721</td>\n",
       "      <td>28.2</td>\n",
       "      <td>6614.3</td>\n",
       "    </tr>\n",
       "    <tr>\n",
       "      <th>35</th>\n",
       "      <td>46616.210000</td>\n",
       "      <td>21.9</td>\n",
       "      <td>22360.0</td>\n",
       "    </tr>\n",
       "    <tr>\n",
       "      <th>36</th>\n",
       "      <td>23140.956926</td>\n",
       "      <td>25.5</td>\n",
       "      <td>10622.2</td>\n",
       "    </tr>\n",
       "    <tr>\n",
       "      <th>37</th>\n",
       "      <td>18822.002837</td>\n",
       "      <td>21.0</td>\n",
       "      <td>8453.4</td>\n",
       "    </tr>\n",
       "    <tr>\n",
       "      <th>38</th>\n",
       "      <td>23300.000000</td>\n",
       "      <td>21.8</td>\n",
       "      <td>12635.8</td>\n",
       "    </tr>\n",
       "    <tr>\n",
       "      <th>39</th>\n",
       "      <td>19180.000000</td>\n",
       "      <td>28.6</td>\n",
       "      <td>9655.5</td>\n",
       "    </tr>\n",
       "    <tr>\n",
       "      <th>40</th>\n",
       "      <td>28879.388916</td>\n",
       "      <td>21.5</td>\n",
       "      <td>13483.3</td>\n",
       "    </tr>\n",
       "    <tr>\n",
       "      <th>41</th>\n",
       "      <td>27250.948884</td>\n",
       "      <td>28.1</td>\n",
       "      <td>12682.0</td>\n",
       "    </tr>\n",
       "    <tr>\n",
       "      <th>42</th>\n",
       "      <td>19050.410000</td>\n",
       "      <td>28.5</td>\n",
       "      <td>8632.0</td>\n",
       "    </tr>\n",
       "    <tr>\n",
       "      <th>43</th>\n",
       "      <td>21534.409628</td>\n",
       "      <td>31.8</td>\n",
       "      <td>9829.4</td>\n",
       "    </tr>\n",
       "    <tr>\n",
       "      <th>44</th>\n",
       "      <td>27001.451546</td>\n",
       "      <td>31.1</td>\n",
       "      <td>12563.2</td>\n",
       "    </tr>\n",
       "    <tr>\n",
       "      <th>45</th>\n",
       "      <td>29529.242476</td>\n",
       "      <td>26.5</td>\n",
       "      <td>13817.8</td>\n",
       "    </tr>\n",
       "    <tr>\n",
       "      <th>46</th>\n",
       "      <td>29321.890000</td>\n",
       "      <td>21.1</td>\n",
       "      <td>13851.9</td>\n",
       "    </tr>\n",
       "    <tr>\n",
       "      <th>47</th>\n",
       "      <td>20139.347503</td>\n",
       "      <td>26.4</td>\n",
       "      <td>9122.3</td>\n",
       "    </tr>\n",
       "    <tr>\n",
       "      <th>48</th>\n",
       "      <td>19842.277089</td>\n",
       "      <td>30.0</td>\n",
       "      <td>8980.6</td>\n",
       "    </tr>\n",
       "    <tr>\n",
       "      <th>49</th>\n",
       "      <td>17668.988787</td>\n",
       "      <td>26.4</td>\n",
       "      <td>7886.6</td>\n",
       "    </tr>\n",
       "    <tr>\n",
       "      <th>50</th>\n",
       "      <td>19354.437577</td>\n",
       "      <td>20.0</td>\n",
       "      <td>8717.1</td>\n",
       "    </tr>\n",
       "    <tr>\n",
       "      <th>51</th>\n",
       "      <td>24141.742847</td>\n",
       "      <td>31.8</td>\n",
       "      <td>11134.4</td>\n",
       "    </tr>\n",
       "    <tr>\n",
       "      <th>52</th>\n",
       "      <td>16210.650000</td>\n",
       "      <td>20.1</td>\n",
       "      <td>8276.2</td>\n",
       "    </tr>\n",
       "    <tr>\n",
       "      <th>53</th>\n",
       "      <td>12668.883304</td>\n",
       "      <td>23.0</td>\n",
       "      <td>5380.8</td>\n",
       "    </tr>\n",
       "    <tr>\n",
       "      <th>54</th>\n",
       "      <td>24789.733798</td>\n",
       "      <td>23.3</td>\n",
       "      <td>11441.3</td>\n",
       "    </tr>\n",
       "    <tr>\n",
       "      <th>55</th>\n",
       "      <td>29972.093901</td>\n",
       "      <td>31.8</td>\n",
       "      <td>14050.0</td>\n",
       "    </tr>\n",
       "  </tbody>\n",
       "</table>\n",
       "</div>"
      ],
      "text/plain": [
       "              RT  Preco  Propaganda\n",
       "0   12129.131000   21.2      5108.1\n",
       "1   19175.832845   20.4      8629.0\n",
       "2   13001.348495   23.7      5548.4\n",
       "3   30668.024388   22.4     14378.2\n",
       "4   30581.377510   21.5     14333.8\n",
       "5   15220.000000   29.4      8550.0\n",
       "6   23670.900000   27.3     11950.7\n",
       "7   20698.505418   22.2      9394.1\n",
       "8   20883.787743   25.1      9491.8\n",
       "9   15400.600000   29.5      7888.2\n",
       "10  26985.419993   24.7     12542.4\n",
       "11  14568.726345   28.9      6342.3\n",
       "12  15537.561148   27.9      6824.4\n",
       "13  13609.533218   23.9      5853.0\n",
       "14  23141.740212   27.5     10625.1\n",
       "15  15557.839361   23.4      6825.4\n",
       "16  30105.546454   31.9     14117.0\n",
       "17  15436.800000   16.5      6550.0\n",
       "18  21128.911514   31.3      9626.7\n",
       "19  16081.438816   30.2      7100.4\n",
       "20  22100.000000   26.6     10752.8\n",
       "21  15253.465584   22.4      6670.8\n",
       "22  15300.480000   22.5      6800.0\n",
       "23  20397.543097   21.1      9240.1\n",
       "24  27597.100000   23.7     12468.1\n",
       "25  27630.300000   27.3     12097.2\n",
       "26  25630.000000   24.4     13511.8\n",
       "27  14530.000000   24.6      7457.2\n",
       "28  15486.360000   21.3      6450.0\n",
       "29  27800.000000   20.3     13422.0\n",
       "30  20695.938561   30.3      9408.3\n",
       "31  31170.983653   24.4     14634.8\n",
       "32  31164.550155   25.6     14634.4\n",
       "33  16685.670256   27.6      7397.6\n",
       "34  15113.989721   28.2      6614.3\n",
       "35  46616.210000   21.9     22360.0\n",
       "36  23140.956926   25.5     10622.2\n",
       "37  18822.002837   21.0      8453.4\n",
       "38  23300.000000   21.8     12635.8\n",
       "39  19180.000000   28.6      9655.5\n",
       "40  28879.388916   21.5     13483.3\n",
       "41  27250.948884   28.1     12682.0\n",
       "42  19050.410000   28.5      8632.0\n",
       "43  21534.409628   31.8      9829.4\n",
       "44  27001.451546   31.1     12563.2\n",
       "45  29529.242476   26.5     13817.8\n",
       "46  29321.890000   21.1     13851.9\n",
       "47  20139.347503   26.4      9122.3\n",
       "48  19842.277089   30.0      8980.6\n",
       "49  17668.988787   26.4      7886.6\n",
       "50  19354.437577   20.0      8717.1\n",
       "51  24141.742847   31.8     11134.4\n",
       "52  16210.650000   20.1      8276.2\n",
       "53  12668.883304   23.0      5380.8\n",
       "54  24789.733798   23.3     11441.3\n",
       "55  29972.093901   31.8     14050.0"
      ]
     },
     "execution_count": 19,
     "metadata": {},
     "output_type": "execute_result"
    }
   ],
   "source": [
    "df"
   ]
  },
  {
   "cell_type": "code",
   "execution_count": 13,
   "metadata": {},
   "outputs": [
    {
     "data": {
      "text/plain": [
       "(56, 3)"
      ]
     },
     "execution_count": 13,
     "metadata": {},
     "output_type": "execute_result"
    }
   ],
   "source": [
    "df.shape"
   ]
  },
  {
   "cell_type": "markdown",
   "metadata": {},
   "source": [
    "### **REGRESSÃO PELO MÉTODO DE MQQ**"
   ]
  },
  {
   "cell_type": "code",
   "execution_count": 14,
   "metadata": {},
   "outputs": [
    {
     "name": "stdout",
     "output_type": "stream",
     "text": [
      "                            OLS Regression Results                            \n",
      "==============================================================================\n",
      "Dep. Variable:                     RT   R-squared:                       0.974\n",
      "Model:                            OLS   Adj. R-squared:                  0.973\n",
      "Method:                 Least Squares   F-statistic:                     1009.\n",
      "Date:                Sun, 05 May 2024   Prob (F-statistic):           6.51e-43\n",
      "Time:                        15:29:51   Log-Likelihood:                -469.23\n",
      "No. Observations:                  56   AIC:                             944.5\n",
      "Df Residuals:                      53   BIC:                             950.5\n",
      "Df Model:                           2                                         \n",
      "Covariance Type:            nonrobust                                         \n",
      "==============================================================================\n",
      "                 coef    std err          t      P>|t|      [0.025      0.975]\n",
      "------------------------------------------------------------------------------\n",
      "Intercept   1857.1808   1065.734      1.743      0.087    -280.412    3994.773\n",
      "Preco         -9.3606     38.217     -0.245      0.807     -86.014      67.292\n",
      "Propaganda     1.9898      0.044     44.912      0.000       1.901       2.079\n",
      "==============================================================================\n",
      "Omnibus:                       31.066   Durbin-Watson:                   1.702\n",
      "Prob(Omnibus):                  0.000   Jarque-Bera (JB):               56.117\n",
      "Skew:                          -1.887   Prob(JB):                     6.52e-13\n",
      "Kurtosis:                       6.131   Cond. No.                     7.84e+04\n",
      "==============================================================================\n",
      "\n",
      "Notes:\n",
      "[1] Standard Errors assume that the covariance matrix of the errors is correctly specified.\n",
      "[2] The condition number is large, 7.84e+04. This might indicate that there are\n",
      "strong multicollinearity or other numerical problems.\n"
     ]
    }
   ],
   "source": [
    "model = smf.ols('RT ~ Preco + Propaganda', df)\n",
    "resultado = model.fit()\n",
    "\n",
    "print(resultado.summary())"
   ]
  },
  {
   "cell_type": "code",
   "execution_count": 15,
   "metadata": {},
   "outputs": [
    {
     "data": {
      "text/plain": [
       "Intercept     1857.18\n",
       "Preco           -9.36\n",
       "Propaganda       1.99\n",
       "dtype: float64"
      ]
     },
     "execution_count": 15,
     "metadata": {},
     "output_type": "execute_result"
    }
   ],
   "source": [
    "# Verificando os estimadores dos Parametros\n",
    "round(resultado.params,2)"
   ]
  },
  {
   "cell_type": "code",
   "execution_count": 16,
   "metadata": {},
   "outputs": [
    {
     "data": {
      "text/plain": [
       "'\\n    RT = 1857.18 - 9.36*Preco + 1.99*Propaganda\\n'"
      ]
     },
     "execution_count": 16,
     "metadata": {},
     "output_type": "execute_result"
    }
   ],
   "source": [
    "'''\n",
    "    Função de Regressão Amostral ou Reta de Regressçao de MQO \n",
    "    RT = 1857.18 - 9.36*Preco + 1.99*Propaganda\n",
    "'''"
   ]
  },
  {
   "cell_type": "code",
   "execution_count": null,
   "metadata": {},
   "outputs": [],
   "source": [
    "29.4\t8550.0 \t15220.000000"
   ]
  },
  {
   "cell_type": "code",
   "execution_count": 20,
   "metadata": {},
   "outputs": [
    {
     "name": "stdout",
     "output_type": "stream",
     "text": [
      "0    18594.65\n",
      "dtype: float64\n"
     ]
    }
   ],
   "source": [
    "# Valor ajustado ou previsto \n",
    "preco = 29.4\n",
    "propaganda = 8550.0 \n",
    "receita = resultado.predict(exog = {'Preco':preco, 'Propaganda':propaganda})\n",
    "receita = round(receita,2)\n",
    "print(receita)"
   ]
  },
  {
   "cell_type": "markdown",
   "metadata": {},
   "source": [
    "### **RESIDUO**\n",
    "e = valor_observado - valor_previsto </br>\n",
    "e = 23141.74 - 22741.44 </br>\n",
    "e = 400.30"
   ]
  },
  {
   "cell_type": "code",
   "execution_count": 24,
   "metadata": {},
   "outputs": [
    {
     "name": "stderr",
     "output_type": "stream",
     "text": [
      "/tmp/ipykernel_50035/81292145.py:1: UserWarning: \n",
      "\n",
      "`distplot` is a deprecated function and will be removed in seaborn v0.14.0.\n",
      "\n",
      "Please adapt your code to use either `displot` (a figure-level function with\n",
      "similar flexibility) or `histplot` (an axes-level function for histograms).\n",
      "\n",
      "For a guide to updating your code to use the new functions, please see\n",
      "https://gist.github.com/mwaskom/de44147ed2974457ad6372750bbe5751\n",
      "\n",
      "  sns.distplot(resultado.resid)\n"
     ]
    },
    {
     "data": {
      "text/plain": [
       "<Axes: ylabel='Density'>"
      ]
     },
     "execution_count": 24,
     "metadata": {},
     "output_type": "execute_result"
    },
    {
     "data": {
      "image/png": "[encoded data removed]",
      "text/plain": [
       "<Figure size 640x480 with 1 Axes>"
      ]
     },
     "metadata": {},
     "output_type": "display_data"
    }
   ],
   "source": [
    "sns.distplot(resultado.resid)"
   ]
  },
  {
   "cell_type": "code",
   "execution_count": 26,
   "metadata": {},
   "outputs": [
    {
     "data": {
      "text/plain": [
       "404.2601786086234"
      ]
     },
     "execution_count": 26,
     "metadata": {},
     "output_type": "execute_result"
    }
   ],
   "source": [
    "# Residuo por amostra\n",
    "resultado.resid[4]"
   ]
  },
  {
   "cell_type": "code",
   "execution_count": 27,
   "metadata": {},
   "outputs": [
    {
     "data": {
      "text/plain": [
       "0.9744103772412668"
      ]
     },
     "execution_count": 27,
     "metadata": {},
     "output_type": "execute_result"
    }
   ],
   "source": [
    "resultado.rsquared"
   ]
  },
  {
   "cell_type": "code",
   "execution_count": null,
   "metadata": {},
   "outputs": [],
   "source": []
  }
 ],
 "metadata": {
  "kernelspec": {
   "display_name": "venv",
   "language": "python",
   "name": "python3"
  },
  "language_info": {
   "codemirror_mode": {
    "name": "ipython",
    "version": 3
   },
   "file_extension": ".py",
   "mimetype": "text/x-python",
   "name": "python",
   "nbconvert_exporter": "python",
   "pygments_lexer": "ipython3",
   "version": "3.10.13"
  }
 },
 "nbformat": 4,
 "nbformat_minor": 2
}
